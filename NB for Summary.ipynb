{
 "cells": [
  {
   "cell_type": "code",
   "execution_count": 1,
   "metadata": {
    "collapsed": true
   },
   "outputs": [],
   "source": [
    "## Import libraries\n",
    "import numpy as np\n",
    "import pandas as pd\n",
    "import matplotlib.pyplot as plt\n",
    "import seaborn as sns\n",
    "%matplotlib inline\n",
    "import sqlite3    ## SQL Interface\n",
    "import pickle     ## Used to save your data - Converts objects to byte stream and vice versa\n",
    "\n",
    "from sklearn.feature_extraction.text import CountVectorizer  ## BOW Model\n",
    "from sklearn.feature_extraction.text import TfidfVectorizer  ## TFIDF Model\n",
    "\n",
    "from sklearn.naive_bayes import BernoulliNB      #Bernoulli NB\n",
    "from sklearn.naive_bayes import MultinomialNB    #Multinomial NB\n",
    "\n",
    "from sklearn.preprocessing import StandardScaler\n",
    "from sklearn.model_selection import train_test_split\n",
    "from matplotlib.colors import ListedColormap\n",
    "from sklearn.model_selection import cross_val_score\n",
    "from sklearn.metrics import accuracy_score\n",
    "from sklearn.metrics import confusion_matrix"
   ]
  },
  {
   "cell_type": "code",
   "execution_count": 2,
   "metadata": {},
   "outputs": [
    {
     "data": {
      "text/html": [
       "<div>\n",
       "<style>\n",
       "    .dataframe thead tr:only-child th {\n",
       "        text-align: right;\n",
       "    }\n",
       "\n",
       "    .dataframe thead th {\n",
       "        text-align: left;\n",
       "    }\n",
       "\n",
       "    .dataframe tbody tr th {\n",
       "        vertical-align: top;\n",
       "    }\n",
       "</style>\n",
       "<table border=\"1\" class=\"dataframe\">\n",
       "  <thead>\n",
       "    <tr style=\"text-align: right;\">\n",
       "      <th></th>\n",
       "      <th>Id</th>\n",
       "      <th>ProductId</th>\n",
       "      <th>UserId</th>\n",
       "      <th>ProfileName</th>\n",
       "      <th>HelpfulnessNumerator</th>\n",
       "      <th>HelpfulnessDenominator</th>\n",
       "      <th>Score</th>\n",
       "      <th>Time</th>\n",
       "      <th>Summary</th>\n",
       "      <th>Text</th>\n",
       "      <th>CleanedText</th>\n",
       "      <th>CleanedNoStem</th>\n",
       "      <th>CleanedSummary</th>\n",
       "    </tr>\n",
       "  </thead>\n",
       "  <tbody>\n",
       "    <tr>\n",
       "      <th>0</th>\n",
       "      <td>540125</td>\n",
       "      <td>B002W08W56</td>\n",
       "      <td>A2STPOZAT37RNE</td>\n",
       "      <td>Betty Baker</td>\n",
       "      <td>1</td>\n",
       "      <td>1</td>\n",
       "      <td>1</td>\n",
       "      <td>1300320000</td>\n",
       "      <td>Wonderful, but surprised to find this size can...</td>\n",
       "      <td>Great beans....the best texture hands down.  T...</td>\n",
       "      <td>great bean best textur hand seem great tast do...</td>\n",
       "      <td>great beans best texture hands seem great tast...</td>\n",
       "      <td>wonderful surprised find size</td>\n",
       "    </tr>\n",
       "    <tr>\n",
       "      <th>1</th>\n",
       "      <td>31763</td>\n",
       "      <td>B000UXWQMC</td>\n",
       "      <td>A115Y8R40DCT3I</td>\n",
       "      <td>Guy</td>\n",
       "      <td>0</td>\n",
       "      <td>0</td>\n",
       "      <td>1</td>\n",
       "      <td>1345161600</td>\n",
       "      <td>better than expected</td>\n",
       "      <td>I usually buy whole pitted olives and when I b...</td>\n",
       "      <td>usual buy whole pit oliv bought good wasnt who...</td>\n",
       "      <td>usually buy whole pitted olives bought good wa...</td>\n",
       "      <td>better expected</td>\n",
       "    </tr>\n",
       "    <tr>\n",
       "      <th>2</th>\n",
       "      <td>509504</td>\n",
       "      <td>B000P09RJA</td>\n",
       "      <td>A2BR8LGC8N6XQD</td>\n",
       "      <td>dj2u</td>\n",
       "      <td>0</td>\n",
       "      <td>4</td>\n",
       "      <td>0</td>\n",
       "      <td>1278374400</td>\n",
       "      <td>Wrong size bars sent</td>\n",
       "      <td>The first shipment was just as ordered.  This ...</td>\n",
       "      <td>first shipment order last shipment not bar wen...</td>\n",
       "      <td>first shipment ordered last shipment not bars ...</td>\n",
       "      <td>wrong size bars sent</td>\n",
       "    </tr>\n",
       "    <tr>\n",
       "      <th>3</th>\n",
       "      <td>27728</td>\n",
       "      <td>B000K8ESBY</td>\n",
       "      <td>A1RYTIMIWPDJ4O</td>\n",
       "      <td>Bill Ison \"Bill\"</td>\n",
       "      <td>0</td>\n",
       "      <td>0</td>\n",
       "      <td>1</td>\n",
       "      <td>1256169600</td>\n",
       "      <td>Coffee flavoring</td>\n",
       "      <td>&lt;a href=\"http://www.amazon.com/gp/product/B000...</td>\n",
       "      <td>flavour creation coffe flavor tablet french va...</td>\n",
       "      <td>flavour creations coffee flavoring tablets fre...</td>\n",
       "      <td>coffee flavoring</td>\n",
       "    </tr>\n",
       "    <tr>\n",
       "      <th>4</th>\n",
       "      <td>128657</td>\n",
       "      <td>B001AVJT0K</td>\n",
       "      <td>AJ6SZ4YAPOOO7</td>\n",
       "      <td>Mwebi</td>\n",
       "      <td>0</td>\n",
       "      <td>0</td>\n",
       "      <td>1</td>\n",
       "      <td>1348099200</td>\n",
       "      <td>They all come running</td>\n",
       "      <td>I have the pickiest cats, they hate 99/100 kin...</td>\n",
       "      <td>pickiest cat hate kind food better vari otherw...</td>\n",
       "      <td>pickiest cats hate kinds food better vary othe...</td>\n",
       "      <td>come running</td>\n",
       "    </tr>\n",
       "  </tbody>\n",
       "</table>\n",
       "</div>"
      ],
      "text/plain": [
       "       Id   ProductId          UserId       ProfileName  HelpfulnessNumerator  \\\n",
       "0  540125  B002W08W56  A2STPOZAT37RNE       Betty Baker                     1   \n",
       "1   31763  B000UXWQMC  A115Y8R40DCT3I               Guy                     0   \n",
       "2  509504  B000P09RJA  A2BR8LGC8N6XQD              dj2u                     0   \n",
       "3   27728  B000K8ESBY  A1RYTIMIWPDJ4O  Bill Ison \"Bill\"                     0   \n",
       "4  128657  B001AVJT0K   AJ6SZ4YAPOOO7             Mwebi                     0   \n",
       "\n",
       "   HelpfulnessDenominator  Score        Time  \\\n",
       "0                       1      1  1300320000   \n",
       "1                       0      1  1345161600   \n",
       "2                       4      0  1278374400   \n",
       "3                       0      1  1256169600   \n",
       "4                       0      1  1348099200   \n",
       "\n",
       "                                             Summary  \\\n",
       "0  Wonderful, but surprised to find this size can...   \n",
       "1                               better than expected   \n",
       "2                               Wrong size bars sent   \n",
       "3                                   Coffee flavoring   \n",
       "4                              They all come running   \n",
       "\n",
       "                                                Text  \\\n",
       "0  Great beans....the best texture hands down.  T...   \n",
       "1  I usually buy whole pitted olives and when I b...   \n",
       "2  The first shipment was just as ordered.  This ...   \n",
       "3  <a href=\"http://www.amazon.com/gp/product/B000...   \n",
       "4  I have the pickiest cats, they hate 99/100 kin...   \n",
       "\n",
       "                                         CleanedText  \\\n",
       "0  great bean best textur hand seem great tast do...   \n",
       "1  usual buy whole pit oliv bought good wasnt who...   \n",
       "2  first shipment order last shipment not bar wen...   \n",
       "3  flavour creation coffe flavor tablet french va...   \n",
       "4  pickiest cat hate kind food better vari otherw...   \n",
       "\n",
       "                                       CleanedNoStem  \\\n",
       "0  great beans best texture hands seem great tast...   \n",
       "1  usually buy whole pitted olives bought good wa...   \n",
       "2  first shipment ordered last shipment not bars ...   \n",
       "3  flavour creations coffee flavoring tablets fre...   \n",
       "4  pickiest cats hate kinds food better vary othe...   \n",
       "\n",
       "                  CleanedSummary  \n",
       "0  wonderful surprised find size  \n",
       "1                better expected  \n",
       "2           wrong size bars sent  \n",
       "3               coffee flavoring  \n",
       "4                   come running  "
      ]
     },
     "execution_count": 2,
     "metadata": {},
     "output_type": "execute_result"
    }
   ],
   "source": [
    "conn = sqlite3.connect('final3.sqlite')  #Loading the sqlite file for future use\n",
    "final = pd.read_sql_query(\"\"\"SELECT * FROM Reviews\"\"\", conn)\n",
    "conn.close()\n",
    "final.head()"
   ]
  },
  {
   "cell_type": "code",
   "execution_count": 3,
   "metadata": {},
   "outputs": [
    {
     "data": {
      "text/html": [
       "<div>\n",
       "<style>\n",
       "    .dataframe thead tr:only-child th {\n",
       "        text-align: right;\n",
       "    }\n",
       "\n",
       "    .dataframe thead th {\n",
       "        text-align: left;\n",
       "    }\n",
       "\n",
       "    .dataframe tbody tr th {\n",
       "        vertical-align: top;\n",
       "    }\n",
       "</style>\n",
       "<table border=\"1\" class=\"dataframe\">\n",
       "  <thead>\n",
       "    <tr style=\"text-align: right;\">\n",
       "      <th></th>\n",
       "      <th>Score</th>\n",
       "      <th>Time</th>\n",
       "      <th>CleanedSummary</th>\n",
       "      <th>CleanedText</th>\n",
       "    </tr>\n",
       "  </thead>\n",
       "  <tbody>\n",
       "    <tr>\n",
       "      <th>89279</th>\n",
       "      <td>1</td>\n",
       "      <td>944092800</td>\n",
       "      <td>entertainingl funny</td>\n",
       "      <td>beetlejuic well written movi everyth excel act...</td>\n",
       "    </tr>\n",
       "    <tr>\n",
       "      <th>99092</th>\n",
       "      <td>1</td>\n",
       "      <td>944438400</td>\n",
       "      <td>modern day fairy tale</td>\n",
       "      <td>twist rumplestiskin captur film star michael k...</td>\n",
       "    </tr>\n",
       "    <tr>\n",
       "      <th>21840</th>\n",
       "      <td>0</td>\n",
       "      <td>948240000</td>\n",
       "      <td>clamshell edition edited version</td>\n",
       "      <td>alway enjoy movi funni entertain didnt hesit p...</td>\n",
       "    </tr>\n",
       "    <tr>\n",
       "      <th>114632</th>\n",
       "      <td>1</td>\n",
       "      <td>951523200</td>\n",
       "      <td>bettlejuice bettlejuice bettlejuice</td>\n",
       "      <td>happen say name three time michael keaten star...</td>\n",
       "    </tr>\n",
       "    <tr>\n",
       "      <th>113134</th>\n",
       "      <td>1</td>\n",
       "      <td>961718400</td>\n",
       "      <td>great product</td>\n",
       "      <td>realli good idea final product outstand use de...</td>\n",
       "    </tr>\n",
       "    <tr>\n",
       "      <th>64542</th>\n",
       "      <td>1</td>\n",
       "      <td>965779200</td>\n",
       "      <td>must</td>\n",
       "      <td>easi use not make mess offer vibrant color not...</td>\n",
       "    </tr>\n",
       "    <tr>\n",
       "      <th>88945</th>\n",
       "      <td>1</td>\n",
       "      <td>966297600</td>\n",
       "      <td>fresh original film master storyteller tim burton</td>\n",
       "      <td>great film dont even know sum first complet or...</td>\n",
       "    </tr>\n",
       "    <tr>\n",
       "      <th>76537</th>\n",
       "      <td>1</td>\n",
       "      <td>975974400</td>\n",
       "      <td>needs wilton</td>\n",
       "      <td>sick scad nasti toothpick counter tint concept...</td>\n",
       "    </tr>\n",
       "    <tr>\n",
       "      <th>50919</th>\n",
       "      <td>0</td>\n",
       "      <td>992217600</td>\n",
       "      <td>casper ghost</td>\n",
       "      <td>michael keaton bring distinguish characterist ...</td>\n",
       "    </tr>\n",
       "    <tr>\n",
       "      <th>8665</th>\n",
       "      <td>0</td>\n",
       "      <td>997228800</td>\n",
       "      <td>great movie terrible dvd</td>\n",
       "      <td>continu amaz shoddi treatment movi get dvd rel...</td>\n",
       "    </tr>\n",
       "  </tbody>\n",
       "</table>\n",
       "</div>"
      ],
      "text/plain": [
       "        Score       Time                                     CleanedSummary  \\\n",
       "89279       1  944092800                                entertainingl funny   \n",
       "99092       1  944438400                              modern day fairy tale   \n",
       "21840       0  948240000                   clamshell edition edited version   \n",
       "114632      1  951523200                bettlejuice bettlejuice bettlejuice   \n",
       "113134      1  961718400                                      great product   \n",
       "64542       1  965779200                                               must   \n",
       "88945       1  966297600  fresh original film master storyteller tim burton   \n",
       "76537       1  975974400                                       needs wilton   \n",
       "50919       0  992217600                                       casper ghost   \n",
       "8665        0  997228800                           great movie terrible dvd   \n",
       "\n",
       "                                              CleanedText  \n",
       "89279   beetlejuic well written movi everyth excel act...  \n",
       "99092   twist rumplestiskin captur film star michael k...  \n",
       "21840   alway enjoy movi funni entertain didnt hesit p...  \n",
       "114632  happen say name three time michael keaten star...  \n",
       "113134  realli good idea final product outstand use de...  \n",
       "64542   easi use not make mess offer vibrant color not...  \n",
       "88945   great film dont even know sum first complet or...  \n",
       "76537   sick scad nasti toothpick counter tint concept...  \n",
       "50919   michael keaton bring distinguish characterist ...  \n",
       "8665    continu amaz shoddi treatment movi get dvd rel...  "
      ]
     },
     "execution_count": 3,
     "metadata": {},
     "output_type": "execute_result"
    }
   ],
   "source": [
    "negative = final[final['Score']==0][['Score','Time','CleanedSummary','CleanedText']]\n",
    "positive = final[final['Score']==1][['Score','Time','CleanedSummary','CleanedText']]\n",
    "data = pd.concat([negative,positive.iloc[:67000,:]],axis=0,ignore_index = True)\n",
    "data.sort_values('Time',inplace = True)\n",
    "data.head(10)"
   ]
  },
  {
   "cell_type": "code",
   "execution_count": 4,
   "metadata": {},
   "outputs": [
    {
     "data": {
      "text/plain": [
       "1    67000\n",
       "0    57110\n",
       "Name: Score, dtype: int64"
      ]
     },
     "execution_count": 4,
     "metadata": {},
     "output_type": "execute_result"
    }
   ],
   "source": [
    "data['Score'].value_counts()"
   ]
  },
  {
   "cell_type": "markdown",
   "metadata": {},
   "source": [
    "# Bernoulli Naive - Bayes using Binary BoW"
   ]
  },
  {
   "cell_type": "code",
   "execution_count": 6,
   "metadata": {
    "collapsed": true
   },
   "outputs": [],
   "source": [
    "bow_vect = CountVectorizer(binary = True)\n",
    "bow = bow_vect.fit_transform(data['CleanedSummary'].values)"
   ]
  },
  {
   "cell_type": "code",
   "execution_count": 7,
   "metadata": {
    "collapsed": true
   },
   "outputs": [],
   "source": [
    "X = bow\n",
    "y = data['Score'].values"
   ]
  },
  {
   "cell_type": "code",
   "execution_count": 8,
   "metadata": {
    "collapsed": true
   },
   "outputs": [],
   "source": [
    "X_train, X_test, y_train, y_test = train_test_split(X, y, test_size = 0.3, shuffle = False)  #Splitting data"
   ]
  },
  {
   "cell_type": "code",
   "execution_count": 9,
   "metadata": {},
   "outputs": [
    {
     "name": "stdout",
     "output_type": "stream",
     "text": [
      "\n",
      " The optimal value of alpha is0.7000000000000001.\n"
     ]
    },
    {
     "data": {
      "image/png": "[encoded data removed]",
      "text/plain": [
       "<matplotlib.figure.Figure at 0x1c37ced2cf8>"
      ]
     },
     "metadata": {},
     "output_type": "display_data"
    }
   ],
   "source": [
    "alpha = np.linspace(0.1,1,10)\n",
    "cv_score = []\n",
    "\n",
    "for a in alpha:\n",
    "    clf = BernoulliNB(alpha = a)\n",
    "    scores = cross_val_score(clf, X_train, y_train, cv = 10, scoring = 'accuracy')\n",
    "    cv_score.append(scores.mean())\n",
    "    \n",
    "MSE = [1-x for x in cv_score]\n",
    "\n",
    "optimal_alpha = alpha[MSE.index(min(MSE))]\n",
    "print('\\n The optimal value of alpha is{}.'.format(optimal_alpha))\n",
    "\n",
    "plt.plot(alpha, MSE)\n",
    "plt.xlabel('Alpha')\n",
    "plt.ylabel('Misclassification Error')\n",
    "plt.show()"
   ]
  },
  {
   "cell_type": "code",
   "execution_count": 10,
   "metadata": {},
   "outputs": [
    {
     "name": "stdout",
     "output_type": "stream",
     "text": [
      "85.0455241318\n"
     ]
    },
    {
     "data": {
      "text/plain": [
       "array([[15080,  2364],\n",
       "       [ 3204, 16585]], dtype=int64)"
      ]
     },
     "execution_count": 10,
     "metadata": {},
     "output_type": "execute_result"
    }
   ],
   "source": [
    "clf = BernoulliNB(alpha = optimal_alpha)\n",
    "clf.fit(X_train, y_train)\n",
    "y_pred = clf.predict(X_test)\n",
    "acc = accuracy_score(y_test, y_pred, normalize = True)*float(100)\n",
    "print(acc)\n",
    "confusion_matrix(y_test,y_pred).T"
   ]
  },
  {
   "cell_type": "code",
   "execution_count": 11,
   "metadata": {},
   "outputs": [
    {
     "name": "stdout",
     "output_type": "stream",
     "text": [
      "Top 50 words in negative summaries\n",
      "not\n",
      "taste\n",
      "good\n",
      "like\n",
      "product\n",
      "bad\n",
      "flavor\n",
      "dont\n",
      "great\n",
      "coffee\n",
      "disappointed\n",
      "buy\n",
      "tastes\n",
      "tea\n",
      "price\n",
      "horrible\n",
      "terrible\n",
      "awful\n",
      "much\n",
      "money\n",
      "yuck\n",
      "poor\n",
      "worst\n",
      "made\n",
      "quality\n",
      "sweet\n",
      "beware\n",
      "really\n",
      "dog\n",
      "stale\n",
      "food\n",
      "disappointing\n",
      "better\n",
      "way\n",
      "one\n",
      "ever\n",
      "didnt\n",
      "sugar\n",
      "chocolate\n",
      "doesnt\n",
      "waste\n",
      "expensive\n",
      "old\n",
      "wrong\n",
      "worth\n",
      "bitter\n",
      "weak\n",
      "china\n",
      "amazon\n",
      "packaging\n",
      "\n",
      "******************************\n",
      "\n",
      "Top 50 words in positive summaries\n",
      "great\n",
      "good\n",
      "best\n",
      "love\n",
      "tea\n",
      "delicious\n",
      "coffee\n",
      "product\n",
      "excellent\n",
      "taste\n",
      "yummy\n",
      "tasty\n",
      "not\n",
      "ever\n",
      "price\n",
      "flavor\n",
      "food\n",
      "favorite\n",
      "stuff\n",
      "like\n",
      "dog\n",
      "snack\n",
      "healthy\n",
      "better\n",
      "loves\n",
      "awesome\n",
      "wonderful\n",
      "chocolate\n",
      "perfect\n",
      "nice\n",
      "free\n",
      "yum\n",
      "dogs\n",
      "mix\n",
      "quality\n",
      "treat\n",
      "really\n",
      "one\n",
      "tastes\n",
      "tasting\n",
      "easy\n",
      "sweet\n",
      "amazing\n",
      "hot\n",
      "cereal\n",
      "cat\n",
      "value\n",
      "buy\n",
      "fantastic\n",
      "organic\n"
     ]
    }
   ],
   "source": [
    "idx = (-clf.feature_log_prob_).argsort()[:2, :50]\n",
    "print('Top 50 words in negative summaries')\n",
    "for i in idx[0]:\n",
    "    print(bow_vect.get_feature_names()[i])\n",
    "    \n",
    "print('\\n******************************\\n')\n",
    "print('Top 50 words in positive summaries')\n",
    "for i in idx[1]:\n",
    "    print(bow_vect.get_feature_names()[i])"
   ]
  },
  {
   "cell_type": "markdown",
   "metadata": {},
   "source": [
    "# Multinomial Naive Bayes using BoW"
   ]
  },
  {
   "cell_type": "code",
   "execution_count": 15,
   "metadata": {
    "collapsed": true
   },
   "outputs": [],
   "source": [
    "bow_vect = CountVectorizer()\n",
    "bow = bow_vect.fit_transform(data['CleanedSummary'].values)"
   ]
  },
  {
   "cell_type": "code",
   "execution_count": 16,
   "metadata": {
    "collapsed": true
   },
   "outputs": [],
   "source": [
    "X = bow\n",
    "y = data['Score'].values"
   ]
  },
  {
   "cell_type": "code",
   "execution_count": 17,
   "metadata": {
    "collapsed": true
   },
   "outputs": [],
   "source": [
    "X_train, X_test, y_train, y_test = train_test_split(X, y, test_size = 0.3, shuffle = False)  #Splitting data"
   ]
  },
  {
   "cell_type": "code",
   "execution_count": 18,
   "metadata": {},
   "outputs": [
    {
     "name": "stdout",
     "output_type": "stream",
     "text": [
      "\n",
      " The optimal value of alpha is0.7000000000000001.\n"
     ]
    },
    {
     "data": {
      "image/png": "[encoded data removed]",
      "text/plain": [
       "<matplotlib.figure.Figure at 0x1c37f3f9d30>"
      ]
     },
     "metadata": {},
     "output_type": "display_data"
    }
   ],
   "source": [
    "alpha = np.linspace(0.1,1,10)\n",
    "cv_score = []\n",
    "\n",
    "for a in alpha:\n",
    "    clf = MultinomialNB(alpha = a)\n",
    "    scores = cross_val_score(clf, X_train, y_train, cv = 10, scoring = 'accuracy')\n",
    "    cv_score.append(scores.mean())\n",
    "    \n",
    "MSE = [1-x for x in cv_score]\n",
    "\n",
    "optimal_alpha = alpha[MSE.index(min(MSE))]\n",
    "print('\\n The optimal value of alpha is{}.'.format(optimal_alpha))\n",
    "\n",
    "plt.plot(alpha, MSE)\n",
    "plt.xlabel('Alpha')\n",
    "plt.ylabel('Misclassification Error')\n",
    "plt.show()"
   ]
  },
  {
   "cell_type": "code",
   "execution_count": 19,
   "metadata": {},
   "outputs": [
    {
     "name": "stdout",
     "output_type": "stream",
     "text": [
      "84.9542072892\n"
     ]
    },
    {
     "data": {
      "text/plain": [
       "array([[15061,  2379],\n",
       "       [ 3223, 16570]], dtype=int64)"
      ]
     },
     "execution_count": 19,
     "metadata": {},
     "output_type": "execute_result"
    }
   ],
   "source": [
    "clf = MultinomialNB(alpha = optimal_alpha)\n",
    "clf.fit(X_train, y_train)\n",
    "y_pred = clf.predict(X_test)\n",
    "acc = accuracy_score(y_test, y_pred, normalize = True)*float(100)\n",
    "print(acc)\n",
    "confusion_matrix(y_test,y_pred).T"
   ]
  },
  {
   "cell_type": "code",
   "execution_count": 20,
   "metadata": {},
   "outputs": [
    {
     "name": "stdout",
     "output_type": "stream",
     "text": [
      "Top 50 words in negative summaries\n",
      "not\n",
      "taste\n",
      "good\n",
      "like\n",
      "product\n",
      "bad\n",
      "flavor\n",
      "great\n",
      "dont\n",
      "coffee\n",
      "disappointed\n",
      "buy\n",
      "tastes\n",
      "tea\n",
      "price\n",
      "horrible\n",
      "terrible\n",
      "awful\n",
      "yuck\n",
      "much\n",
      "money\n",
      "poor\n",
      "worst\n",
      "really\n",
      "made\n",
      "sweet\n",
      "quality\n",
      "stale\n",
      "dog\n",
      "beware\n",
      "food\n",
      "disappointing\n",
      "way\n",
      "better\n",
      "sugar\n",
      "one\n",
      "ever\n",
      "didnt\n",
      "chocolate\n",
      "doesnt\n",
      "waste\n",
      "expensive\n",
      "old\n",
      "weak\n",
      "bitter\n",
      "wrong\n",
      "worth\n",
      "china\n",
      "amazon\n",
      "get\n",
      "\n",
      "******************************\n",
      "\n",
      "Top 50 words in positive summaries\n",
      "great\n",
      "good\n",
      "best\n",
      "love\n",
      "tea\n",
      "delicious\n",
      "coffee\n",
      "product\n",
      "excellent\n",
      "taste\n",
      "yummy\n",
      "tasty\n",
      "not\n",
      "ever\n",
      "price\n",
      "flavor\n",
      "food\n",
      "favorite\n",
      "stuff\n",
      "like\n",
      "dog\n",
      "snack\n",
      "healthy\n",
      "better\n",
      "loves\n",
      "chocolate\n",
      "awesome\n",
      "wonderful\n",
      "yum\n",
      "perfect\n",
      "nice\n",
      "free\n",
      "dogs\n",
      "mix\n",
      "quality\n",
      "really\n",
      "treat\n",
      "one\n",
      "tastes\n",
      "easy\n",
      "tasting\n",
      "sweet\n",
      "hot\n",
      "amazing\n",
      "cat\n",
      "cereal\n",
      "value\n",
      "buy\n",
      "fantastic\n",
      "organic\n"
     ]
    }
   ],
   "source": [
    "idx = (-clf.feature_log_prob_).argsort()[:2, :50]\n",
    "print('Top 50 words in negative summaries')\n",
    "for i in idx[0]:\n",
    "    print(bow_vect.get_feature_names()[i])\n",
    "    \n",
    "print('\\n******************************\\n')\n",
    "print('Top 50 words in positive summaries')\n",
    "for i in idx[1]:\n",
    "    print(bow_vect.get_feature_names()[i])"
   ]
  },
  {
   "cell_type": "code",
   "execution_count": 21,
   "metadata": {},
   "outputs": [
    {
     "data": {
      "text/plain": [
       "(124110, 18405)"
      ]
     },
     "execution_count": 21,
     "metadata": {},
     "output_type": "execute_result"
    }
   ],
   "source": [
    "tf_idf_vect = TfidfVectorizer()\n",
    "tf_idf = tf_idf_vect.fit_transform(data[\"CleanedSummary\"].values)\n",
    "tf_idf.shape"
   ]
  },
  {
   "cell_type": "markdown",
   "metadata": {},
   "source": [
    "# Multinomial Naive Bayes using TF - IDF"
   ]
  },
  {
   "cell_type": "code",
   "execution_count": 22,
   "metadata": {
    "collapsed": true
   },
   "outputs": [],
   "source": [
    "X = tf_idf\n",
    "y = data['Score'].values"
   ]
  },
  {
   "cell_type": "code",
   "execution_count": 23,
   "metadata": {
    "collapsed": true
   },
   "outputs": [],
   "source": [
    "X_train, X_test, y_train, y_test = train_test_split(X, y, test_size = 0.3, shuffle = False)  #Splitting data"
   ]
  },
  {
   "cell_type": "code",
   "execution_count": 24,
   "metadata": {},
   "outputs": [
    {
     "name": "stdout",
     "output_type": "stream",
     "text": [
      "\n",
      " The optimal value of alpha is1.0.\n"
     ]
    },
    {
     "data": {
      "image/png": "[encoded data removed]",
      "text/plain": [
       "<matplotlib.figure.Figure at 0x1c36a451080>"
      ]
     },
     "metadata": {},
     "output_type": "display_data"
    }
   ],
   "source": [
    "alpha = np.linspace(0.1,1,10)\n",
    "cv_score = []\n",
    "\n",
    "for a in alpha:\n",
    "    clf = MultinomialNB(alpha = a)\n",
    "    scores = cross_val_score(clf, X_train, y_train, cv = 10, scoring = 'accuracy')\n",
    "    cv_score.append(scores.mean())\n",
    "    \n",
    "MSE = [1-x for x in cv_score]\n",
    "\n",
    "optimal_alpha = alpha[MSE.index(min(MSE))]\n",
    "print('\\n The optimal value of alpha is{}.'.format(optimal_alpha))\n",
    "\n",
    "plt.plot(alpha, MSE)\n",
    "plt.xlabel('Alpha')\n",
    "plt.ylabel('Misclassification Error')\n",
    "plt.show()"
   ]
  },
  {
   "cell_type": "code",
   "execution_count": 25,
   "metadata": {},
   "outputs": [
    {
     "name": "stdout",
     "output_type": "stream",
     "text": [
      "83.8986920205\n"
     ]
    },
    {
     "data": {
      "text/plain": [
       "array([[14452,  2163],\n",
       "       [ 3832, 16786]], dtype=int64)"
      ]
     },
     "execution_count": 25,
     "metadata": {},
     "output_type": "execute_result"
    }
   ],
   "source": [
    "clf = MultinomialNB(alpha = optimal_alpha)\n",
    "clf.fit(X_train, y_train)\n",
    "y_pred = clf.predict(X_test)\n",
    "acc = accuracy_score(y_test, y_pred, normalize = True)*float(100)\n",
    "print(acc)\n",
    "confusion_matrix(y_test,y_pred).T"
   ]
  },
  {
   "cell_type": "code",
   "execution_count": 26,
   "metadata": {},
   "outputs": [
    {
     "name": "stdout",
     "output_type": "stream",
     "text": [
      "Top 50 words in negative summaries\n",
      "not\n",
      "good\n",
      "taste\n",
      "disappointed\n",
      "like\n",
      "bad\n",
      "product\n",
      "dont\n",
      "flavor\n",
      "yuck\n",
      "awful\n",
      "terrible\n",
      "horrible\n",
      "buy\n",
      "coffee\n",
      "disappointing\n",
      "great\n",
      "tastes\n",
      "price\n",
      "stale\n",
      "money\n",
      "poor\n",
      "much\n",
      "tea\n",
      "sweet\n",
      "expensive\n",
      "worst\n",
      "beware\n",
      "really\n",
      "made\n",
      "waste\n",
      "expected\n",
      "gross\n",
      "quality\n",
      "didnt\n",
      "way\n",
      "disgusting\n",
      "bitter\n",
      "weak\n",
      "overpriced\n",
      "nasty\n",
      "worth\n",
      "dog\n",
      "salty\n",
      "sugar\n",
      "china\n",
      "doesnt\n",
      "wrong\n",
      "food\n",
      "better\n",
      "\n",
      "******************************\n",
      "\n",
      "Top 50 words in positive summaries\n",
      "great\n",
      "good\n",
      "best\n",
      "love\n",
      "delicious\n",
      "tea\n",
      "coffee\n",
      "product\n",
      "excellent\n",
      "yummy\n",
      "tasty\n",
      "stuff\n",
      "taste\n",
      "favorite\n",
      "price\n",
      "ever\n",
      "yum\n",
      "flavor\n",
      "awesome\n",
      "food\n",
      "dog\n",
      "wonderful\n",
      "snack\n",
      "healthy\n",
      "loves\n",
      "perfect\n",
      "like\n",
      "not\n",
      "amazing\n",
      "better\n",
      "nice\n",
      "dogs\n",
      "chocolate\n",
      "treat\n",
      "quality\n",
      "fantastic\n",
      "really\n",
      "value\n",
      "easy\n",
      "tasting\n",
      "free\n",
      "tastes\n",
      "mix\n",
      "cereal\n",
      "sweet\n",
      "hot\n",
      "one\n",
      "buy\n",
      "treats\n",
      "works\n"
     ]
    }
   ],
   "source": [
    "idx = (-clf.feature_log_prob_).argsort()[:2, :50]\n",
    "print('Top 50 words in negative summaries')\n",
    "for i in idx[0]:\n",
    "    print(bow_vect.get_feature_names()[i])\n",
    "    \n",
    "print('\\n******************************\\n')\n",
    "print('Top 50 words in positive summaries')\n",
    "for i in idx[1]:\n",
    "    print(bow_vect.get_feature_names()[i])"
   ]
  },
  {
   "cell_type": "code",
   "execution_count": null,
   "metadata": {
    "collapsed": true
   },
   "outputs": [],
   "source": []
  }
 ],
 "metadata": {
  "kernelspec": {
   "display_name": "Python 3",
   "language": "python",
   "name": "python3"
  },
  "language_info": {
   "codemirror_mode": {
    "name": "ipython",
    "version": 3
   },
   "file_extension": ".py",
   "mimetype": "text/x-python",
   "name": "python",
   "nbconvert_exporter": "python",
   "pygments_lexer": "ipython3",
   "version": "3.6.4"
  }
 },
 "nbformat": 4,
 "nbformat_minor": 2
}
